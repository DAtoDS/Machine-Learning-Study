{
 "cells": [
  {
   "cell_type": "markdown",
   "metadata": {},
   "source": [
    "# 거리 계산하기\n",
    "# 가장 근처에 있는 요소 뽑기\n",
    "# 예측하기"
   ]
  },
  {
   "cell_type": "code",
   "execution_count": 36,
   "metadata": {
    "ExecuteTime": {
     "end_time": "2020-10-08T09:13:29.148646Z",
     "start_time": "2020-10-08T09:13:29.145669Z"
    },
    "scrolled": true
   },
   "outputs": [],
   "source": [
    "from math import sqrt\n",
    "from IPython.display import Image"
   ]
  },
  {
   "cell_type": "code",
   "execution_count": 37,
   "metadata": {
    "ExecuteTime": {
     "end_time": "2020-10-08T09:13:29.551436Z",
     "start_time": "2020-10-08T09:13:29.547131Z"
    }
   },
   "outputs": [
    {
     "data": {
      "image/png": "[encoded data removed]",
      "text/plain": [
       "<IPython.core.display.Image object>"
      ]
     },
     "execution_count": 37,
     "metadata": {},
     "output_type": "execute_result"
    }
   ],
   "source": [
    "Image(\"img/euclidean_distance.png\")"
   ]
  },
  {
   "cell_type": "code",
   "execution_count": 38,
   "metadata": {
    "ExecuteTime": {
     "end_time": "2020-10-08T09:13:29.874441Z",
     "start_time": "2020-10-08T09:13:29.869205Z"
    }
   },
   "outputs": [],
   "source": [
    "#거리 계산하기\n",
    "# row = [x, y, type]\n",
    "def euclidean_distance(row1, row2):\n",
    "\tdistance = 0.0\n",
    "\tfor i in range(len(row1)-1):\n",
    "\t\tdistance += (row1[i] - row2[i])**2\n",
    "\treturn sqrt(distance)\n"
   ]
  },
  {
   "cell_type": "code",
   "execution_count": 39,
   "metadata": {
    "ExecuteTime": {
     "end_time": "2020-10-08T09:13:30.326927Z",
     "start_time": "2020-10-08T09:13:30.317804Z"
    }
   },
   "outputs": [],
   "source": [
    "# # 가장 근처에 있는 요소 뽑기\n",
    "def get_neighbors(train, test_row, num_neighbors):\n",
    "\tdistances = list()\n",
    "\tfor train_row in train:\n",
    "\t\tdist = euclidean_distance(test_row, train_row)\n",
    "\t\tdistances.append((train_row, dist))\n",
    "\tdistances.sort(key=lambda tup: tup[1])\n",
    "\tneighbors = list()\n",
    "\tfor i in range(num_neighbors):\n",
    "\t\tneighbors.append(distances[i][0])\n",
    "\treturn neighbors"
   ]
  },
  {
   "cell_type": "code",
   "execution_count": 40,
   "metadata": {
    "ExecuteTime": {
     "end_time": "2020-10-08T09:13:30.828556Z",
     "start_time": "2020-10-08T09:13:30.807216Z"
    }
   },
   "outputs": [
    {
     "name": "stdout",
     "output_type": "stream",
     "text": [
      "0.2189163999999999\n",
      "1.534510628\n",
      "0.3965616879999998\n",
      "1.61192981\n",
      "0.06407232000000018\n",
      "4.627531214\n",
      "2.3324412480000003\n",
      "3.922596716\n",
      "5.675418650999999\n",
      "4.673756466\n",
      "================================\n",
      "[3.06407232, 3.005305973, 0]\n",
      "[2.7810836, 2.550537003, 0]\n",
      "[3.396561688, 4.400293529, 0]\n"
     ]
    }
   ],
   "source": [
    "# Test distance function\n",
    "# [x, y, type]\n",
    "dataset = [[2.7810836,2.550537003,0],\n",
    "\t[1.465489372,2.362125076,0],\n",
    "\t[3.396561688,4.400293529,0],\n",
    "\t[1.38807019,1.850220317,0],\n",
    "\t[3.06407232,3.005305973,0],\n",
    "\t[7.627531214,2.759262235,1],\n",
    "\t[5.332441248,2.088626775,1],\n",
    "\t[6.922596716,1.77106367,1],\n",
    "\t[8.675418651,-0.242068655,1],\n",
    "\t[7.673756466,3.508563011,1]]\n",
    "\n",
    "row0 = [3,3]\n",
    "for row in dataset:\n",
    "\tdistance = euclidean_distance(row0, row)\n",
    "\tprint(distance)\n",
    "    \n",
    "print (\"================================\")\n",
    "\n",
    "neighbors = get_neighbors(dataset, row0, 3)\n",
    "for neighbor in neighbors:\n",
    "\tprint(neighbor)"
   ]
  },
  {
   "cell_type": "code",
   "execution_count": 41,
   "metadata": {
    "ExecuteTime": {
     "end_time": "2020-10-08T09:13:48.897972Z",
     "start_time": "2020-10-08T09:13:48.890949Z"
    }
   },
   "outputs": [],
   "source": [
    "# 예측하기 - 마지막에 예측된 type을 출력해주는 함수 입니다.\n",
    "def predict_classification(train, test_row, num_neighbors):\n",
    "\tneighbors = get_neighbors(train, test_row, num_neighbors)\n",
    "\tfor neighbor in neighbors:\n",
    "\t\tprint(neighbor)\n",
    "\toutput_values = [row[-1] for row in neighbors]\n",
    "\tprediction = max(set(output_values), key=output_values.count)\n",
    "\treturn prediction"
   ]
  },
  {
   "cell_type": "code",
   "execution_count": 42,
   "metadata": {
    "ExecuteTime": {
     "end_time": "2020-10-08T09:14:00.585801Z",
     "start_time": "2020-10-08T09:14:00.580573Z"
    }
   },
   "outputs": [
    {
     "name": "stdout",
     "output_type": "stream",
     "text": [
      "[3.06407232, 3.005305973, 0]\n",
      "[2.7810836, 2.550537003, 0]\n",
      "[3.396561688, 4.400293529, 0]\n",
      "Expected 0, Got 0.\n"
     ]
    }
   ],
   "source": [
    "row0 = [3,3,0]\n",
    "\n",
    "prediction = predict_classification(dataset, row0, 3)\n",
    "print('Expected %d, Got %d.' % (row0[-1], prediction))"
   ]
  },
  {
   "cell_type": "code",
   "execution_count": 44,
   "metadata": {
    "ExecuteTime": {
     "end_time": "2020-10-08T09:14:48.258440Z",
     "start_time": "2020-10-08T09:14:48.253712Z"
    }
   },
   "outputs": [
    {
     "name": "stdout",
     "output_type": "stream",
     "text": [
      "[7.673756466, 3.508563011, 1]\n",
      "[3.396561688, 4.400293529, 0]\n",
      "[7.627531214, 2.759262235, 1]\n",
      "[5.332441248, 2.088626775, 1]\n",
      "[6.922596716, 1.77106367, 1]\n",
      "Expected 0, Got 1.\n"
     ]
    }
   ],
   "source": [
    "row0 = [6,5,0]\n",
    "prediction = predict_classification(dataset, row0, 5)\n",
    "print('Expected %d, Got %d.' % (row0[-1], prediction))"
   ]
  },
  {
   "cell_type": "code",
   "execution_count": null,
   "metadata": {},
   "outputs": [],
   "source": []
  }
 ],
 "metadata": {
  "kernelspec": {
   "display_name": "Python 3",
   "language": "python",
   "name": "python3"
  },
  "language_info": {
   "codemirror_mode": {
    "name": "ipython",
    "version": 3
   },
   "file_extension": ".py",
   "mimetype": "text/x-python",
   "name": "python",
   "nbconvert_exporter": "python",
   "pygments_lexer": "ipython3",
   "version": "3.6.3"
  },
  "toc": {
   "nav_menu": {},
   "number_sections": true,
   "sideBar": true,
   "skip_h1_title": false,
   "toc_cell": false,
   "toc_position": {},
   "toc_section_display": "block",
   "toc_window_display": false
  },
  "varInspector": {
   "cols": {
    "lenName": 16,
    "lenType": 16,
    "lenVar": 40
   },
   "kernels_config": {
    "python": {
     "delete_cmd_postfix": "",
     "delete_cmd_prefix": "del ",
     "library": "var_list.py",
     "varRefreshCmd": "print(var_dic_list())"
    },
    "r": {
     "delete_cmd_postfix": ") ",
     "delete_cmd_prefix": "rm(",
     "library": "var_list.r",
     "varRefreshCmd": "cat(var_dic_list()) "
    }
   },
   "types_to_exclude": [
    "module",
    "function",
    "builtin_function_or_method",
    "instance",
    "_Feature"
   ],
   "window_display": false
  }
 },
 "nbformat": 4,
 "nbformat_minor": 2
}
